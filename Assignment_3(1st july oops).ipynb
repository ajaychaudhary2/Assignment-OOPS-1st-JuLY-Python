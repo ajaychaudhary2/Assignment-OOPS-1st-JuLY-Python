{
 "cells": [
  {
   "cell_type": "code",
   "execution_count": null,
   "metadata": {},
   "outputs": [],
   "source": []
  },
  {
   "cell_type": "markdown",
   "metadata": {},
   "source": [
    "# QUESTION 1  -> What is the primary goal of Object-Oriented Programming (OOP)?"
   ]
  },
  {
   "cell_type": "markdown",
   "metadata": {},
   "source": []
  },
  {
   "cell_type": "markdown",
   "metadata": {},
   "source": [
    "# solution1"
   ]
  },
  {
   "cell_type": "markdown",
   "metadata": {},
   "source": [
    "## In Python, the primary goal of object-oriented programming (OOP) is to structure our code in a way that models real-world entities and their interactions. This is achieved by organizing code into classes and objects"
   ]
  },
  {
   "cell_type": "markdown",
   "metadata": {},
   "source": [
    "_____________________________________________________________________________________________________________________________________________"
   ]
  },
  {
   "cell_type": "markdown",
   "metadata": {},
   "source": [
    "# Question 2 -> What is an object in Python?\n"
   ]
  },
  {
   "cell_type": "markdown",
   "metadata": {},
   "source": [
    "# solution2"
   ]
  },
  {
   "cell_type": "markdown",
   "metadata": {},
   "source": [
    "##  an object is a fundamental concept representing a real-world entity or data structure that has state (attributes or properties) and behavior (methods or functions). Every value in Python is an object, including integers, strings, lists, tuples, dictionaries, functions, and even classes themselves."
   ]
  },
  {
   "cell_type": "code",
   "execution_count": 6,
   "metadata": {},
   "outputs": [],
   "source": [
    "## example of objest in python \n",
    "\n",
    "## lets create a class called car\n",
    "\n",
    "class Car:\n",
    "\n",
    "    def __init__(self  , model , brand):\n",
    "\n",
    "      \n",
    "\n",
    "        self.model = model\n",
    "\n",
    "        self.brand = brand\n",
    "\n",
    "        self.speed = 0\n",
    "\n",
    "\n",
    "    # create  two functionss \n",
    "        \n",
    "    def acclerate(self , incriment):\n",
    "\n",
    "        self.speed += incriment\n",
    "\n",
    "\n",
    "    def brake ( self , decrement):\n",
    "\n",
    "        self.speed -= decrement\n",
    "\n",
    "        if self.speed < 0 :\n",
    "\n",
    "            self.speed = 0\n",
    "\n",
    "   \n",
    "\n",
    "   \n",
    "\n"
   ]
  },
  {
   "cell_type": "code",
   "execution_count": 7,
   "metadata": {},
   "outputs": [
    {
     "name": "stdout",
     "output_type": "stream",
     "text": [
      "30\n"
     ]
    }
   ],
   "source": [
    "#creating objects of car classs\n",
    "\n",
    "car1 = Car(\"Fortuner\" , \"Toyota\")\n",
    "\n",
    "\n",
    "#acessing the attributes of objects car\n",
    "\n",
    "car1.acclerate(30)\n",
    "\n",
    "print(car1.speed)\n",
    "\n",
    "\n",
    "# IN THIS EXAMPLE  CAR1 IS  OBJECT OF CLASS CAR   AND THE   MODEL AND BRAMD ARE THE ATTRIBUTES OF OBJECT CAR"
   ]
  },
  {
   "cell_type": "markdown",
   "metadata": {},
   "source": [
    "-------------------------------------------------------------------------------------------------------------------------------------------------"
   ]
  },
  {
   "cell_type": "markdown",
   "metadata": {},
   "source": [
    "# Question 3 -> What is a class in Python?"
   ]
  },
  {
   "cell_type": "markdown",
   "metadata": {},
   "source": [
    "## soluton 3\n"
   ]
  },
  {
   "cell_type": "markdown",
   "metadata": {},
   "source": [
    "## A class is a blueprint for creating objects. It defines a set of attributes and methods that characterize any object created from that class."
   ]
  },
  {
   "cell_type": "markdown",
   "metadata": {},
   "source": []
  },
  {
   "cell_type": "code",
   "execution_count": null,
   "metadata": {},
   "outputs": [],
   "source": [
    "class Car:\n",
    "\n",
    "    def __init__(self  , model , brand):\n",
    "\n",
    "      \n",
    "\n",
    "        self.model = model\n",
    "\n",
    "        self.brand = brand\n",
    "\n",
    "        self.speed = 0\n",
    "\n",
    "        ## in this code Car is a class or the blue print for the   object car1"
   ]
  },
  {
   "cell_type": "markdown",
   "metadata": {},
   "source": [
    "--------------------------------------------------------------------------------------------------------------------------------------------"
   ]
  },
  {
   "cell_type": "markdown",
   "metadata": {},
   "source": [
    "# Question 4 -> What are attributes and methods in a class?"
   ]
  },
  {
   "cell_type": "markdown",
   "metadata": {},
   "source": [
    "## solution 4"
   ]
  },
  {
   "cell_type": "markdown",
   "metadata": {},
   "source": [
    "## Attributes -> atributes are the variable thats belong to  an object . they represent the state and charaterstics of a   object   Attributes can be defined within the class using the __init__ method"
   ]
  },
  {
   "cell_type": "markdown",
   "metadata": {},
   "source": []
  },
  {
   "cell_type": "code",
   "execution_count": null,
   "metadata": {},
   "outputs": [],
   "source": [
    "class Car:\n",
    "\n",
    "    def __init__(self  , model , brand):\n",
    "\n",
    "      \n",
    "\n",
    "        self.model = model\n",
    "\n",
    "        self.brand = brand\n",
    "\n",
    "        self.speed = 0  \n",
    "\n",
    "\n",
    "\n",
    "    # in this code the 'model' and 'brand' are the attributes of object car1"
   ]
  },
  {
   "cell_type": "markdown",
   "metadata": {},
   "source": [
    "## Methods ->  Methods are functions that are associated with an object. They define the behavior or actions that an object can perform.  Methods are defined within a class and are accessed using dot notation (object.method()).\n"
   ]
  },
  {
   "cell_type": "code",
   "execution_count": 8,
   "metadata": {},
   "outputs": [
    {
     "name": "stdout",
     "output_type": "stream",
     "text": [
      "50\n"
     ]
    }
   ],
   "source": [
    "## create a new object for class car \n",
    "\n",
    "car2 = Car(\"Swift\" , \"Maruti\")\n",
    "\n",
    "## accessing method for   print these\n",
    "\n",
    "car2.acclerate(50)\n",
    "\n",
    "print(car2.speed) #this is a metod we vreate in a class"
   ]
  },
  {
   "cell_type": "markdown",
   "metadata": {},
   "source": [
    "---------------------------------------------------------------------------------------------------------------------------------------------------"
   ]
  },
  {
   "cell_type": "markdown",
   "metadata": {},
   "source": [
    "# Question 5 -> What is the difference between class variables and instance variables in Python?"
   ]
  },
  {
   "cell_type": "markdown",
   "metadata": {},
   "source": [
    "## solution 5"
   ]
  },
  {
   "cell_type": "markdown",
   "metadata": {},
   "source": [
    "## Class variable ->     Class variables are variables that are shared among all instances of a class.   They are defined within the class but outside of any methods.   Class variables are accessed using the class name itself or through any instance of the class.   They are typically used to store data that is common to all instances of the class.  Changes made to class variables are reflected across all instances of the class.    Class variables are defined once and shared by all instances of the class.\n",
    "  \n",
    "   \n",
    "   \n",
    "   \n",
    "  "
   ]
  },
  {
   "cell_type": "markdown",
   "metadata": {},
   "source": []
  },
  {
   "cell_type": "code",
   "execution_count": 9,
   "metadata": {},
   "outputs": [
    {
     "name": "stdout",
     "output_type": "stream",
     "text": [
      "Canine\n"
     ]
    }
   ],
   "source": [
    "class Dog:\n",
    "    species = \"Canine\"  # Class variable\n",
    "\n",
    "    def __init__(self, name):\n",
    "        self.name = name  # Instance variable\n",
    "\n",
    "# Accessing class variable\n",
    "print(Dog.species)  # Output: Canine "
   ]
  },
  {
   "cell_type": "markdown",
   "metadata": {},
   "source": [
    "## Instance variable -> nstance variables are variables that are unique to each instance of a class. They are defined within the __init__ method or any other instance method using the self keyword.Instance variables represent the state of individual objects and can vary from one instance to another.\n",
    "\n"
   ]
  },
  {
   "cell_type": "code",
   "execution_count": null,
   "metadata": {},
   "outputs": [],
   "source": [
    " def __init__(self, name):\n",
    "        self.name = name  # Instance variable"
   ]
  },
  {
   "cell_type": "markdown",
   "metadata": {},
   "source": [
    "---------------------------------------------------------------------------------------------------------------------------------------------------"
   ]
  },
  {
   "cell_type": "markdown",
   "metadata": {},
   "source": [
    "# Question 6 -> What is the purpose of the self parameter in Python class methods?\n"
   ]
  },
  {
   "cell_type": "markdown",
   "metadata": {},
   "source": [
    "## Solution 6"
   ]
  },
  {
   "cell_type": "markdown",
   "metadata": {},
   "source": [
    "## The purpose of the self parameter is to differentiate between instance variables and local variables within a class. When defining methods in a class, you must include self as the first parameter in order to access the instance's attributes and methods. This parameter is automatically passed when calling the method on an instance, so you don't need to explicitly provide a value for self   it is used to accessing instance variables"
   ]
  },
  {
   "cell_type": "markdown",
   "metadata": {},
   "source": [
    "----------------------------------------------------------------------------------------------------------------------------------------"
   ]
  },
  {
   "cell_type": "markdown",
   "metadata": {},
   "source": [
    "# Question 7 -> For a library management system, you have to design the \"Book\" class with OOP\n",
    "# principles in mind. The “Book” class will have following attributes:\n",
    "## a. title: Represents the title of the book.\n",
    "## b. author: Represents the author(s) of the book\n",
    "## c. isbn: Represents the ISBN (International Standard Book Number) of the book.\n",
    "## d. publication_year: Represents the year of publication of the book.\n",
    "## e. available_copies: Represents the number of copies available for checkout.\n",
    "\n",
    "# The class will also include the following methods\n",
    "\n",
    "## a. check_out(self): Decrements the available copies by one if there are copies available for checkout.\n",
    "## b. return_book(self): Increments the available copies by one when a book is returned.\n",
    "## c. display_book_info(self): Displays the information about the book, including its attributes and the number of available copies."
   ]
  },
  {
   "cell_type": "markdown",
   "metadata": {},
   "source": [
    "## Solution 7"
   ]
  },
  {
   "cell_type": "code",
   "execution_count": 1,
   "metadata": {},
   "outputs": [],
   "source": [
    "class Book:\n",
    "\n",
    "    def __init__(self , title , author , isbn , publication_year , available_copies ):\n",
    "\n",
    "        self.title = title\n",
    "\n",
    "        self.author = author\n",
    "\n",
    "        self.isbn = isbn\n",
    "\n",
    "        self.publication_year = publication_year\n",
    "\n",
    "        self.available_copies = available_copies\n",
    "\n",
    "       \n",
    "\n",
    "        # create a method when someone take the vcopy of a book the   books are   decreasse by one\n",
    "\n",
    "\n",
    "    def check_out(self):\n",
    "\n",
    "        self.available_copies = self.available_copies - 1\n",
    "\n",
    "        print (f\" Nice choice {self.title}  We are happy to see yu here\") \n",
    "\n",
    "        print()\n",
    "\n",
    "        print(f\" The remaining copies are { self.available_copies}\")\n",
    "\n",
    "  # create a method when someone return the copy of a book the   book are   increase by one\n",
    "    \n",
    "\n",
    "\n",
    "    def return_book(self):\n",
    "        \n",
    "        self.available_copies =  self.available_copies + 1 \n",
    "\n",
    "        print(f\"Thank you for returning the book {self.title}\")\n",
    "\n",
    "        print()\n",
    "\n",
    "        print(f\"Remianing Copies: { self.available_copies}\")\n",
    "\n",
    "\n",
    "# create a method to   show the details of a book\n",
    "    \n",
    "    def display_book_info(self):\n",
    "         \n",
    "        print(\"The details of the book is below\")\n",
    "\n",
    "        print()\n",
    "\n",
    "        print ( f\"Title : {self.title}\" )\n",
    "\n",
    "        print()\n",
    "\n",
    "        print (f\"Author : {self.author}\")\n",
    "\n",
    "        print()\n",
    "\n",
    "        print(f\"(International Standard Book Number : {self.isbn}\")\n",
    "\n",
    "        print()\n",
    "\n",
    "        print(f\"Publication Year :  {self.publication_year}\")\n",
    "\n",
    "        print()\n",
    "\n",
    "        print(f\"Available Copies : {self.available_copies} \")\n",
    "\n",
    "\n",
    "\n",
    "       \n",
    "\n",
    "\n",
    "    \n",
    "                        "
   ]
  },
  {
   "cell_type": "code",
   "execution_count": 3,
   "metadata": {},
   "outputs": [
    {
     "name": "stdout",
     "output_type": "stream",
     "text": [
      "The details of the book is below\n",
      "\n",
      "Title : Rich Dad Poor Dad\n",
      "\n",
      "Author : Robert Kiyosaki\n",
      "\n",
      "(International Standard Book Number : 2345677\n",
      "\n",
      "Publication Year :  2023\n",
      "\n",
      "Available Copies : 150 \n"
     ]
    }
   ],
   "source": [
    "## create a object of book\n",
    "\n",
    "Book1 = Book(\"Rich Dad Poor Dad\" , \"Robert Kiyosaki\" , 2345677 , 2023 , 150 )\n",
    "\n",
    "#dipsplauy the dettails of book\n",
    "\n",
    "Book1.display_book_info()"
   ]
  },
  {
   "cell_type": "code",
   "execution_count": 4,
   "metadata": {},
   "outputs": [
    {
     "name": "stdout",
     "output_type": "stream",
     "text": [
      " Nice choice Rich Dad Poor Dad  We are happy to see yu here\n",
      "\n",
      " The remaining copies are 149\n"
     ]
    }
   ],
   "source": [
    "# run method of check out \n",
    "\n",
    "Book1.check_out()"
   ]
  },
  {
   "cell_type": "code",
   "execution_count": 5,
   "metadata": {},
   "outputs": [
    {
     "name": "stdout",
     "output_type": "stream",
     "text": [
      "Thank you for returning the book Rich Dad Poor Dad\n",
      "\n",
      "Remianing Copies: 150\n"
     ]
    }
   ],
   "source": [
    " # run method of  Return\n",
    "\n",
    "Book1.return_book()"
   ]
  },
  {
   "cell_type": "markdown",
   "metadata": {},
   "source": [
    "----------------------------------------------------------------------------------------------------------------------------------------------------------------------------------"
   ]
  },
  {
   "cell_type": "markdown",
   "metadata": {},
   "source": [
    "# Question 8 -> For a ticket booking system, you have to design the \"Ticket\" class with OOP principles in mind. The “Ticket” class should have the following attributes:\n",
    "## a. ticket_id: Represents the unique identifier for the ticket.\n",
    "## b. event_name: Represents the name of the event.\n",
    "## c. event_date: Represents the date of the event.\n",
    "## d. venue: Represents the venue of the event.\n",
    "## e. seat_number: Represents the seat number associated with the ticket.\n",
    "## f. price: Represents the price of the ticket.\n",
    "## g. is_reserved: Represents the reservation status of the ticket.\n",
    "# The class also includes the following methods:\n",
    "## a. reserve_ticket(self): Marks the ticket as reserved if it is not already reserved.\n",
    "## b. cancel_reservation(self): Cancels the reservation of the ticket if it is already reserved.\n",
    "## c. display_ticket_info(self): Displays the information about the ticket, including its attributes and reservation status"
   ]
  },
  {
   "cell_type": "markdown",
   "metadata": {},
   "source": [
    "## Solution 8"
   ]
  },
  {
   "cell_type": "code",
   "execution_count": 6,
   "metadata": {},
   "outputs": [],
   "source": [
    "class Ticket:\n",
    "\n",
    "    def __init__(self , ticket_id , event_name , event_date , venue , seat_number , price  ):\n",
    "        \n",
    "        self.ticket_id = ticket_id\n",
    "\n",
    "        self.event_name = event_name\n",
    "\n",
    "        self.event_date = event_date\n",
    "\n",
    "        self.venue = venue\n",
    "\n",
    "        self.seat_number = seat_number\n",
    "\n",
    "        self.price = price\n",
    "\n",
    "        self.is_reserved = False\n",
    "\n",
    "    \n",
    "    def reserve_ticket(self):\n",
    "\n",
    "        if not self.is_reserved:\n",
    "\n",
    "            self.is_reserved = True\n",
    "\n",
    "            print(f\"The seat {self.seat_number}  Ticket id {self.ticket_id} has been reserved\")\n",
    "\n",
    "        else:\n",
    "            print(f\"The seat {self.seat_number}  Ticket id {self.ticket_id} is already reserved\")\n",
    "     \n",
    "\n",
    "    def cancel_reservation(self):\n",
    "\n",
    "        \n",
    "        if  self.is_reserved:\n",
    "\n",
    "            self.is_reserved = False\n",
    "\n",
    "            print(f\"The Reseration with this {self.ticket_id} Ticket Id has been cancelled\")\n",
    "\n",
    "        else:\n",
    "             print(f\"Ticket {self.ticket_id} is not reserved yet.\")\n",
    "\n",
    "\n",
    "\n",
    "    def display_ticket_info(self):\n",
    "\n",
    "        print(\"Ticket Information:\")\n",
    "        print()\n",
    "        print(f\"Ticket ID: {self.ticket_id}\")\n",
    "        print()\n",
    "        print(f\"Event Name: {self.event_name}\")\n",
    "        print()\n",
    "        print(f\"Event Date: {self.event_date}\")\n",
    "        print()\n",
    "        print(f\"Venue: {self.venue}\")\n",
    "        print()\n",
    "        print(f\"Seat Number: {self.seat_number}\")\n",
    "        print()\n",
    "        print(f\"Price: Rs.{self.price}\")\n",
    "    \n",
    "\n",
    "        \n",
    "\n"
   ]
  },
  {
   "cell_type": "code",
   "execution_count": 8,
   "metadata": {},
   "outputs": [
    {
     "name": "stdout",
     "output_type": "stream",
     "text": [
      "Ticket Information:\n",
      "\n",
      "Ticket ID: 2004\n",
      "\n",
      "Event Name: DDLJ2\n",
      "\n",
      "Event Date: 16 march 2024\n",
      "\n",
      "Venue: MMR mall\n",
      "\n",
      "Seat Number: 24B\n",
      "\n",
      "Price: Rs.499\n"
     ]
    }
   ],
   "source": [
    "# create a  object for class ticket\n",
    "\n",
    "Ticket1 = Ticket(2004 , \"DDLJ2\" , \"16 march 2024\" , \"MMR mall\" , \"24B\" , 499)\n",
    "\n",
    "\n",
    "# print the ticket info\n",
    "\n",
    "Ticket1.display_ticket_info()"
   ]
  },
  {
   "cell_type": "code",
   "execution_count": 10,
   "metadata": {},
   "outputs": [
    {
     "name": "stdout",
     "output_type": "stream",
     "text": [
      "The seat 24B  Ticket id 2004 has been reserved\n"
     ]
    }
   ],
   "source": [
    "## reserve the ticket\n",
    "\n",
    "Ticket1.reserve_ticket()"
   ]
  },
  {
   "cell_type": "code",
   "execution_count": 11,
   "metadata": {},
   "outputs": [
    {
     "name": "stdout",
     "output_type": "stream",
     "text": [
      "The Reseration with this 2004 Ticket Id has been cancelled\n"
     ]
    }
   ],
   "source": [
    "# cancel ticket\n",
    "\n",
    "Ticket1.cancel_reservation()"
   ]
  },
  {
   "cell_type": "markdown",
   "metadata": {},
   "source": [
    "-----------------------------------------------------------------------------------------------------------------------------------------\n"
   ]
  },
  {
   "cell_type": "markdown",
   "metadata": {},
   "source": [
    "# Question 9 -> You are creating a shopping cart for an e-commerce website. Using OOP to model the \"ShoppingCart\" functionality the class should contain following attributes and methods:\n",
    "## a. items: Represents the list of items in the shopping cart.\n",
    "# The class also includes the following methods:\n",
    "## a. add_item(self, item): Adds an item to the shopping cart by appending it to the list of items.\n",
    "## b. remove_item(self, item): Removes an item from the shopping cart if it exists in the list.\n",
    "## c. view_cart(self): Displays the items currently present in the shopping cart.\n",
    "## d. clear_cart(self): Clears all items from the shopping cart by reassigning an empty list to the items attribute.\n"
   ]
  },
  {
   "cell_type": "markdown",
   "metadata": {},
   "source": [
    "## Solution 9"
   ]
  },
  {
   "cell_type": "code",
   "execution_count": 19,
   "metadata": {},
   "outputs": [],
   "source": [
    "class Shoppingcart:\n",
    "\n",
    "    def __init__(self):\n",
    "\n",
    "        self.items =[]\n",
    "\n",
    "    def add_item(self,item):\n",
    "\n",
    "        self.items.append(item)\n",
    "\n",
    "        print(f\"The {item} is added to cart\")\n",
    "\n",
    "\n",
    "    def remove_item(self ,item):\n",
    "        \n",
    "        if item in self.items :\n",
    "\n",
    "            self.items.remove(item)\n",
    "\n",
    "            print(f\" The {item} is removed from the cart\")\n",
    "\n",
    "\n",
    "    def view_cart(self):\n",
    "\n",
    "        print(\"The items in cart \")\n",
    "\n",
    "        for item in self.items:\n",
    "\n",
    "            print(item)\n",
    "\n",
    "\n",
    "    def clear_cart(self):\n",
    "\n",
    "        self.items = []\n",
    "\n",
    "        print(\"the cart is cleared\")"
   ]
  },
  {
   "cell_type": "code",
   "execution_count": 14,
   "metadata": {},
   "outputs": [
    {
     "name": "stdout",
     "output_type": "stream",
     "text": [
      "The laptop is added to cart\n",
      "The mobile is added to cart\n",
      "The cover is added to cart\n"
     ]
    }
   ],
   "source": [
    "# Create a   cart\n",
    "\n",
    "my_cart = Shoppingcart()\n",
    "\n",
    "my_cart.add_item(\"laptop\")\n",
    "\n",
    "my_cart.add_item(\"mobile\")\n",
    "\n",
    "my_cart.add_item(\"cover\")"
   ]
  },
  {
   "cell_type": "code",
   "execution_count": 15,
   "metadata": {},
   "outputs": [
    {
     "name": "stdout",
     "output_type": "stream",
     "text": [
      "The items in cart \n",
      "laptop\n",
      "mobile\n",
      "cover\n"
     ]
    }
   ],
   "source": [
    "my_cart.view_cart()"
   ]
  },
  {
   "cell_type": "code",
   "execution_count": 16,
   "metadata": {},
   "outputs": [
    {
     "name": "stdout",
     "output_type": "stream",
     "text": [
      " The laptop is removed from the cart\n"
     ]
    }
   ],
   "source": [
    "# to remove item from cart\n",
    "\n",
    "my_cart.remove_item(\"laptop\")\n"
   ]
  },
  {
   "cell_type": "code",
   "execution_count": 17,
   "metadata": {},
   "outputs": [
    {
     "name": "stdout",
     "output_type": "stream",
     "text": [
      "The items in cart \n",
      "mobile\n",
      "cover\n"
     ]
    }
   ],
   "source": [
    "# to view cart\n",
    "my_cart.view_cart()"
   ]
  },
  {
   "cell_type": "code",
   "execution_count": 23,
   "metadata": {},
   "outputs": [],
   "source": [
    "#to clear the cart\n",
    "my_cart.clear_cart()"
   ]
  },
  {
   "cell_type": "markdown",
   "metadata": {},
   "source": [
    "----------------------------------------------------------------------------------------------------------------------------------------"
   ]
  },
  {
   "cell_type": "markdown",
   "metadata": {},
   "source": [
    "# Question 10 -> Imagine a school management system. You have to design the \"Student\" class using OOP concepts.The “Student” class has the following attributes:\n",
    "## a. name: Represents the name of the student.\n",
    "## b. age: Represents the age of the student.\n",
    "## c. grade: Represents the grade or class of the student.\n",
    "## d. student_id: Represents the unique identifier for the student.\n",
    "## e. attendance: Represents the attendance record of the student.\n",
    "# The class should also include the following methods:\n",
    "## a. update_attendance(self, date, status): Updates the attendance record of the student for a given date with the provided status (e.g., present or absent).\n",
    "## b. get_attendance(self): Returns the attendance record of the student.\n",
    "## c. get_average_attendance(self): Calculates and returns the average attendance percentage of the student based on their attendance record."
   ]
  },
  {
   "cell_type": "markdown",
   "metadata": {},
   "source": [
    "## Solution 10 "
   ]
  },
  {
   "cell_type": "code",
   "execution_count": 25,
   "metadata": {},
   "outputs": [],
   "source": [
    "class Student:\n",
    "    def __init__(self, name, age, grade, student_id):\n",
    "\n",
    "        self.name = name\n",
    "\n",
    "        self.age = age\n",
    "\n",
    "        self.grade = grade\n",
    "\n",
    "        self.student_id = student_id\n",
    "\n",
    "        self.attendance = {}\n",
    "\n",
    "    def update_attendance(self, date, status):\n",
    "\n",
    "        self.attendance[date] = status\n",
    "\n",
    "    def get_attendance(self):\n",
    "\n",
    "        return self.attendance\n",
    "\n",
    "    def get_average_attendance(self):\n",
    "\n",
    "        total_days = len(self.attendance)\n",
    "\n",
    "        if total_days == 0:\n",
    "\n",
    "            return 0\n",
    "        \n",
    "        present_days = sum(1 for status in self.attendance.values() if status == \"present\")\n",
    "        \n",
    "        return (present_days / total_days) * 100\n"
   ]
  },
  {
   "cell_type": "code",
   "execution_count": 26,
   "metadata": {},
   "outputs": [
    {
     "name": "stdout",
     "output_type": "stream",
     "text": [
      "Attendance Record: {'2024-03-16': 'present'}\n",
      "Average Attendance: 100.0 %\n"
     ]
    }
   ],
   "source": [
    "# Creating a student object\n",
    "student1 = Student(\"Ajay\", 18, \"12th\", \"S001\")\n",
    "\n",
    "# Updating attendance\n",
    "student1.update_attendance(\"2024-03-16\", \"present\")\n",
    "student1.update_attendance(\"2024-03-16\", \"absent\")\n",
    "student1.update_attendance(\"2024-03-16\", \"present\")\n",
    "\n",
    "# Getting attendance record\n",
    "print(\"Attendance Record:\", student1.get_attendance())\n",
    "\n",
    "# Getting average attendance\n",
    "print(\"Average Attendance:\", student1.get_average_attendance(), \"%\")\n"
   ]
  }
 ],
 "metadata": {
  "kernelspec": {
   "display_name": "Python 3",
   "language": "python",
   "name": "python3"
  },
  "language_info": {
   "codemirror_mode": {
    "name": "ipython",
    "version": 3
   },
   "file_extension": ".py",
   "mimetype": "text/x-python",
   "name": "python",
   "nbconvert_exporter": "python",
   "pygments_lexer": "ipython3",
   "version": "3.11.4"
  }
 },
 "nbformat": 4,
 "nbformat_minor": 2
}
